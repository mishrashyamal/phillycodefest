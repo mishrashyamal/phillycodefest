{
 "cells": [
  {
   "cell_type": "code",
   "execution_count": 11,
   "metadata": {},
   "outputs": [],
   "source": [
    "import pandas as pd\n",
    "import numpy as np\n",
    "import matplotlib.pyplot as plt\n",
    "import seaborn as sns\n",
    "from sklearn.model_selection import train_test_split\n",
    "from tensorflow.keras import layers\n",
    "from tensorflow import keras\n",
    "from ast import literal_eval\n",
    "import tensorflow as tf"
   ]
  },
  {
   "cell_type": "code",
   "execution_count": 12,
   "metadata": {},
   "outputs": [],
   "source": [
    "df = pd.read_csv('../data/soft_skills.csv')"
   ]
  },
  {
   "cell_type": "code",
   "execution_count": 13,
   "metadata": {},
   "outputs": [
    {
     "data": {
      "text/html": [
       "<div>\n",
       "<style scoped>\n",
       "    .dataframe tbody tr th:only-of-type {\n",
       "        vertical-align: middle;\n",
       "    }\n",
       "\n",
       "    .dataframe tbody tr th {\n",
       "        vertical-align: top;\n",
       "    }\n",
       "\n",
       "    .dataframe thead th {\n",
       "        text-align: right;\n",
       "    }\n",
       "</style>\n",
       "<table border=\"1\" class=\"dataframe\">\n",
       "  <thead>\n",
       "    <tr style=\"text-align: right;\">\n",
       "      <th></th>\n",
       "      <th>text</th>\n",
       "      <th>soft_skills</th>\n",
       "    </tr>\n",
       "  </thead>\n",
       "  <tbody>\n",
       "    <tr>\n",
       "      <th>0</th>\n",
       "      <td>Supervises financial management and administr...</td>\n",
       "      <td>['instructing', 'communication', 'mediation']</td>\n",
       "    </tr>\n",
       "    <tr>\n",
       "      <th>1</th>\n",
       "      <td>Serves as member of management team participa...</td>\n",
       "      <td>['mediation', 'organization', 'coordination']</td>\n",
       "    </tr>\n",
       "    <tr>\n",
       "      <th>2</th>\n",
       "      <td>Directs and oversees the company's financial ...</td>\n",
       "      <td>['mediation', 'coordination', 'communication']</td>\n",
       "    </tr>\n",
       "    <tr>\n",
       "      <th>3</th>\n",
       "      <td>Directs and oversees the annual budgeting pro...</td>\n",
       "      <td>['coordination', 'mediation', 'instructing']</td>\n",
       "    </tr>\n",
       "    <tr>\n",
       "      <th>4</th>\n",
       "      <td>Prepares external and internal financial mana...</td>\n",
       "      <td>['mediation', 'communication', 'coordination']</td>\n",
       "    </tr>\n",
       "  </tbody>\n",
       "</table>\n",
       "</div>"
      ],
      "text/plain": [
       "                                                text  \\\n",
       "0   Supervises financial management and administr...   \n",
       "1   Serves as member of management team participa...   \n",
       "2   Directs and oversees the company's financial ...   \n",
       "3   Directs and oversees the annual budgeting pro...   \n",
       "4   Prepares external and internal financial mana...   \n",
       "\n",
       "                                      soft_skills  \n",
       "0   ['instructing', 'communication', 'mediation']  \n",
       "1   ['mediation', 'organization', 'coordination']  \n",
       "2  ['mediation', 'coordination', 'communication']  \n",
       "3    ['coordination', 'mediation', 'instructing']  \n",
       "4  ['mediation', 'communication', 'coordination']  "
      ]
     },
     "execution_count": 13,
     "metadata": {},
     "output_type": "execute_result"
    }
   ],
   "source": [
    "df.head()"
   ]
  },
  {
   "cell_type": "code",
   "execution_count": 14,
   "metadata": {},
   "outputs": [
    {
     "data": {
      "text/plain": [
       "(6669, 2)"
      ]
     },
     "execution_count": 14,
     "metadata": {},
     "output_type": "execute_result"
    }
   ],
   "source": [
    "df.shape"
   ]
  },
  {
   "cell_type": "code",
   "execution_count": 15,
   "metadata": {},
   "outputs": [
    {
     "name": "stdout",
     "output_type": "stream",
     "text": [
      "<class 'pandas.core.frame.DataFrame'>\n",
      "RangeIndex: 6669 entries, 0 to 6668\n",
      "Data columns (total 2 columns):\n",
      " #   Column       Non-Null Count  Dtype \n",
      "---  ------       --------------  ----- \n",
      " 0   text         6669 non-null   object\n",
      " 1   soft_skills  6669 non-null   object\n",
      "dtypes: object(2)\n",
      "memory usage: 104.3+ KB\n"
     ]
    }
   ],
   "source": [
    "df.info()"
   ]
  },
  {
   "cell_type": "code",
   "execution_count": 16,
   "metadata": {},
   "outputs": [
    {
     "data": {
      "text/plain": [
       "array([list(['instructing', 'communication', 'mediation']),\n",
       "       list(['mediation', 'organization', 'coordination']),\n",
       "       list(['mediation', 'coordination', 'communication']),\n",
       "       list(['coordination', 'mediation', 'instructing']),\n",
       "       list(['mediation', 'communication', 'coordination'])], dtype=object)"
      ]
     },
     "execution_count": 16,
     "metadata": {},
     "output_type": "execute_result"
    }
   ],
   "source": [
    "from ast import literal_eval\n",
    "\n",
    "df[\"soft_skills\"] = df[\"soft_skills\"].apply(\n",
    "    lambda x: literal_eval(x)\n",
    ")\n",
    "\n",
    "df[\"soft_skills\"].values[:5]"
   ]
  },
  {
   "cell_type": "code",
   "execution_count": 17,
   "metadata": {},
   "outputs": [],
   "source": [
    "class_counts = df[\"soft_skills\"].value_counts()"
   ]
  },
  {
   "cell_type": "code",
   "execution_count": 18,
   "metadata": {},
   "outputs": [],
   "source": [
    "# Get the names of the classes that have at least two samples.\n",
    "from sklearn.model_selection import train_test_split\n",
    "\n",
    "valid_classes = class_counts[class_counts >= 2].index.tolist()\n",
    "\n",
    "# Filter the DataFrame to include only the valid classes.\n",
    "df_filtered = df[df[\"soft_skills\"].isin(valid_classes)]\n",
    "\n",
    "# Split the filtered DataFrame into training and testing sets.\n",
    "train_df, test_df = train_test_split(\n",
    "    df_filtered,\n",
    "    test_size= 0.2,\n",
    "    random_state=42,\n",
    "    stratify=df_filtered[\"soft_skills\"].values\n",
    ")"
   ]
  },
  {
   "cell_type": "code",
   "execution_count": 48,
   "metadata": {},
   "outputs": [
    {
     "name": "stdout",
     "output_type": "stream",
     "text": [
      "Vocabulary:\n",
      "\n",
      "['[UNK]', 'mediation', 'coordination', 'communication', 'instructing', 'service orientation', 'organization', 'adaptability', 'stress management', 'time management', 'complex problem solving', 'monitoring', 'active listening', 'critical thinking', 'flexibility', 'professionalism', 'initiative', 'social perceptiveness', 'conflict resolution', 'self-motivation', 'self-awareness', 'emotional intelligence']\n"
     ]
    }
   ],
   "source": [
    "terms = tf.ragged.constant(train_df[\"soft_skills\"].values)\n",
    "lookup = tf.keras.layers.StringLookup(output_mode=\"multi_hot\")\n",
    "lookup.adapt(terms)\n",
    "vocab = lookup.get_vocabulary()\n",
    "\n",
    "## saving vocab\n",
    "import pickle\n",
    "with open('../data/vocab.pkl', 'wb') as f:\n",
    "    pickle.dump(vocab, f)\n",
    "    \n",
    "\n",
    "def invert_multi_hot(encoded_labels):\n",
    "    \"\"\"Reverse a single multi-hot encoded label to a tuple of vocab terms.\"\"\"\n",
    "    hot_indices = np.argwhere(encoded_labels == 1.0)[..., 0]\n",
    "    return np.take(vocab, hot_indices)\n",
    "\n",
    "\n",
    "print(\"Vocabulary:\\n\")\n",
    "print(vocab)"
   ]
  },
  {
   "cell_type": "code",
   "execution_count": 20,
   "metadata": {},
   "outputs": [
    {
     "name": "stdout",
     "output_type": "stream",
     "text": [
      "Original label: ['mediation', 'coordination', 'instructing']\n",
      "Label-binarized representation: [[0. 1. 1. 0. 1. 0. 0. 0. 0. 0. 0. 0. 0. 0. 0. 0. 0. 0. 0. 0. 0. 0.]]\n"
     ]
    }
   ],
   "source": [
    "sample_label = train_df[\"soft_skills\"].iloc[0]\n",
    "print(f\"Original label: {sample_label}\")\n",
    "\n",
    "label_binarized = lookup([sample_label])\n",
    "print(f\"Label-binarized representation: {label_binarized}\")"
   ]
  },
  {
   "cell_type": "code",
   "execution_count": 21,
   "metadata": {},
   "outputs": [
    {
     "data": {
      "text/plain": [
       "count    5183.000000\n",
       "mean       15.103608\n",
       "std        12.069778\n",
       "min         1.000000\n",
       "25%         9.000000\n",
       "50%        12.000000\n",
       "75%        18.000000\n",
       "max       325.000000\n",
       "Name: text, dtype: float64"
      ]
     },
     "execution_count": 21,
     "metadata": {},
     "output_type": "execute_result"
    }
   ],
   "source": [
    "train_df[\"text\"].apply(lambda x: len(x.split(\" \"))).describe()"
   ]
  },
  {
   "cell_type": "code",
   "execution_count": 22,
   "metadata": {},
   "outputs": [],
   "source": [
    "max_seqlen = 150\n",
    "batch_size = 128\n",
    "padding_token = \"<pad>\"\n",
    "auto = tf.data.AUTOTUNE\n",
    "\n",
    "\n",
    "def make_dataset(dataframe, is_train=True):\n",
    "    labels = tf.ragged.constant(dataframe[\"soft_skills\"].values)\n",
    "    label_binarized = lookup(labels).numpy()\n",
    "    dataset = tf.data.Dataset.from_tensor_slices(\n",
    "        (dataframe[\"text\"].values, label_binarized)\n",
    "    )\n",
    "    dataset = dataset.shuffle(batch_size * 10) if is_train else dataset\n",
    "    return dataset.batch(batch_size)"
   ]
  },
  {
   "cell_type": "code",
   "execution_count": 23,
   "metadata": {},
   "outputs": [],
   "source": [
    "train_dataset = make_dataset(train_df, is_train=True)\n",
    "validation_dataset = make_dataset(test_df, is_train=False)\n",
    "test_dataset = make_dataset(test_df, is_train=False)"
   ]
  },
  {
   "cell_type": "code",
   "execution_count": 24,
   "metadata": {},
   "outputs": [
    {
     "name": "stdout",
     "output_type": "stream",
     "text": [
      "Abstract: b' Develop project implementation, monitoring and evaluation plans andcoordinate the implementation process of IOM CT projects as assigned; '\n",
      "Label(s): ['mediation' 'coordination' 'communication']\n",
      " \n",
      "Abstract: b' Develop informational products to support the Program, such aswebsite, newsletter, fact sheet, brochure, etc.;'\n",
      "Label(s): ['mediation' 'communication' 'instructing']\n",
      " \n",
      "Abstract: b' Performing any other activities deemed necessary.Expected OutputThe key expected output of incumbents services is the timely andqualified delivery of the project outputs as per the approved projectdocument and the work plan.Development of Java Web ApplicationsManagement DutiesDevelops and maintains donor profile software. Develops and implementsinformation systems for improving dissemination to donors (including theDiaspora).Develops and updates the Information Communications Plan and proposesand implements state'\n",
      "Label(s): ['mediation' 'coordination' 'communication']\n",
      " \n",
      "Abstract: b' Writing high quality code based on implementation specification'\n",
      "Label(s): ['communication' 'service orientation' 'adaptability']\n",
      " \n",
      "Abstract: b'house clinical review of documents for adherence toproject specific requirements;'\n",
      "Label(s): ['mediation' 'communication' 'instructing']\n",
      " \n"
     ]
    }
   ],
   "source": [
    "text_batch, label_batch = next(iter(train_dataset))\n",
    "\n",
    "for i, text in enumerate(text_batch[:5]):\n",
    "    label = label_batch[i].numpy()[None, ...]\n",
    "    print(f\"Abstract: {text}\")\n",
    "    print(f\"Label(s): {invert_multi_hot(label[0])}\")\n",
    "    print(\" \")"
   ]
  },
  {
   "cell_type": "code",
   "execution_count": 25,
   "metadata": {},
   "outputs": [
    {
     "name": "stdout",
     "output_type": "stream",
     "text": [
      "11220\n"
     ]
    }
   ],
   "source": [
    "vocabulary = set()\n",
    "train_df[\"text\"].str.lower().str.split().apply(vocabulary.update)\n",
    "vocabulary_size = len(vocabulary)\n",
    "print(vocabulary_size)"
   ]
  },
  {
   "cell_type": "code",
   "execution_count": 26,
   "metadata": {},
   "outputs": [],
   "source": [
    "from tensorflow.keras import layers\n",
    "\n",
    "text_vectorizer = layers.TextVectorization(\n",
    "    max_tokens=vocabulary_size, ngrams=2, output_mode=\"tf_idf\"\n",
    ")\n",
    "\n",
    "# `TextVectorization` layer needs to be adapted as per the vocabulary from our\n",
    "# training set.\n",
    "with tf.device(\"/CPU:0\"):\n",
    "    text_vectorizer.adapt(train_dataset.map(lambda text, label: text))\n",
    "\n",
    "train_dataset = train_dataset.map(\n",
    "    lambda text, label: (text_vectorizer(text), label), num_parallel_calls=auto\n",
    ").prefetch(auto)\n",
    "validation_dataset = validation_dataset.map(\n",
    "    lambda text, label: (text_vectorizer(text), label), num_parallel_calls=auto\n",
    ").prefetch(auto)\n",
    "test_dataset = test_dataset.map(\n",
    "    lambda text, label: (text_vectorizer(text), label), num_parallel_calls=auto\n",
    ").prefetch(auto)"
   ]
  },
  {
   "cell_type": "code",
   "execution_count": 27,
   "metadata": {},
   "outputs": [],
   "source": [
    "def make_model():\n",
    "    shallow_mlp_model = keras.Sequential(\n",
    "        [\n",
    "            layers.Dense(512, activation=\"relu\"),\n",
    "            layers.Dense(256, activation=\"relu\"),\n",
    "            layers.Dense(lookup.vocabulary_size(), activation=\"sigmoid\"),\n",
    "        ]  # More on why \"sigmoid\" has been used here in a moment.\n",
    "    )\n",
    "    return shallow_mlp_model"
   ]
  },
  {
   "cell_type": "code",
   "execution_count": 28,
   "metadata": {},
   "outputs": [
    {
     "name": "stdout",
     "output_type": "stream",
     "text": [
      "Epoch 1/20\n",
      "41/41 [==============================] - 1s 22ms/step - loss: 0.2254 - binary_accuracy: 0.9165 - val_loss: 0.1354 - val_binary_accuracy: 0.9494\n",
      "Epoch 2/20\n",
      "41/41 [==============================] - 1s 21ms/step - loss: 0.0704 - binary_accuracy: 0.9766 - val_loss: 0.1197 - val_binary_accuracy: 0.9560\n",
      "Epoch 3/20\n",
      "41/41 [==============================] - 1s 19ms/step - loss: 0.0298 - binary_accuracy: 0.9916 - val_loss: 0.1335 - val_binary_accuracy: 0.9558\n",
      "Epoch 4/20\n",
      "41/41 [==============================] - 1s 19ms/step - loss: 0.0155 - binary_accuracy: 0.9963 - val_loss: 0.1505 - val_binary_accuracy: 0.9564\n",
      "Epoch 5/20\n",
      "41/41 [==============================] - 1s 20ms/step - loss: 0.0109 - binary_accuracy: 0.9976 - val_loss: 0.1593 - val_binary_accuracy: 0.9557\n",
      "Epoch 6/20\n",
      "41/41 [==============================] - 1s 19ms/step - loss: 0.0078 - binary_accuracy: 0.9982 - val_loss: 0.1740 - val_binary_accuracy: 0.9564\n",
      "Epoch 7/20\n",
      "41/41 [==============================] - 1s 19ms/step - loss: 0.0068 - binary_accuracy: 0.9984 - val_loss: 0.1836 - val_binary_accuracy: 0.9562\n",
      "Epoch 8/20\n",
      "41/41 [==============================] - 1s 20ms/step - loss: 0.0061 - binary_accuracy: 0.9984 - val_loss: 0.1939 - val_binary_accuracy: 0.9554\n",
      "Epoch 9/20\n",
      "41/41 [==============================] - 1s 19ms/step - loss: 0.0063 - binary_accuracy: 0.9983 - val_loss: 0.1998 - val_binary_accuracy: 0.9555\n",
      "Epoch 10/20\n",
      "41/41 [==============================] - 1s 20ms/step - loss: 0.0058 - binary_accuracy: 0.9984 - val_loss: 0.1984 - val_binary_accuracy: 0.9550\n",
      "Epoch 11/20\n",
      "41/41 [==============================] - 1s 22ms/step - loss: 0.0054 - binary_accuracy: 0.9985 - val_loss: 0.2220 - val_binary_accuracy: 0.9548\n",
      "Epoch 12/20\n",
      "41/41 [==============================] - 1s 18ms/step - loss: 0.0044 - binary_accuracy: 0.9988 - val_loss: 0.2153 - val_binary_accuracy: 0.9545\n",
      "Epoch 13/20\n",
      "41/41 [==============================] - 1s 19ms/step - loss: 0.0046 - binary_accuracy: 0.9986 - val_loss: 0.2175 - val_binary_accuracy: 0.9548\n",
      "Epoch 14/20\n",
      "41/41 [==============================] - 1s 18ms/step - loss: 0.0050 - binary_accuracy: 0.9986 - val_loss: 0.2185 - val_binary_accuracy: 0.9540\n",
      "Epoch 15/20\n",
      "41/41 [==============================] - 1s 19ms/step - loss: 0.0041 - binary_accuracy: 0.9987 - val_loss: 0.2231 - val_binary_accuracy: 0.9539\n",
      "Epoch 16/20\n",
      "41/41 [==============================] - 1s 18ms/step - loss: 0.0034 - binary_accuracy: 0.9988 - val_loss: 0.2278 - val_binary_accuracy: 0.9552\n",
      "Epoch 17/20\n",
      "41/41 [==============================] - 1s 18ms/step - loss: 0.0031 - binary_accuracy: 0.9989 - val_loss: 0.2370 - val_binary_accuracy: 0.9548\n",
      "Epoch 18/20\n",
      "41/41 [==============================] - 1s 18ms/step - loss: 0.0031 - binary_accuracy: 0.9989 - val_loss: 0.2353 - val_binary_accuracy: 0.9549\n",
      "Epoch 19/20\n",
      "41/41 [==============================] - 1s 19ms/step - loss: 0.0028 - binary_accuracy: 0.9989 - val_loss: 0.2401 - val_binary_accuracy: 0.9547\n",
      "Epoch 20/20\n",
      "41/41 [==============================] - 1s 19ms/step - loss: 0.0027 - binary_accuracy: 0.9990 - val_loss: 0.2394 - val_binary_accuracy: 0.9551\n"
     ]
    },
    {
     "data": {
      "image/png": "[encoded data removed]",
      "text/plain": [
       "<Figure size 640x480 with 1 Axes>"
      ]
     },
     "metadata": {},
     "output_type": "display_data"
    },
    {
     "data": {
      "image/png": "[encoded data removed]",
      "text/plain": [
       "<Figure size 640x480 with 1 Axes>"
      ]
     },
     "metadata": {},
     "output_type": "display_data"
    }
   ],
   "source": [
    "from tensorflow import keras\n",
    "\n",
    "epochs = 20\n",
    "\n",
    "shallow_mlp_model = make_model()\n",
    "shallow_mlp_model.compile(\n",
    "    loss=\"binary_crossentropy\", optimizer=\"adam\", metrics=[\"binary_accuracy\"]\n",
    ")\n",
    "\n",
    "history = shallow_mlp_model.fit(\n",
    "    train_dataset, validation_data=validation_dataset, epochs=epochs\n",
    ")\n",
    "\n",
    "\n",
    "def plot_result(item):\n",
    "    plt.plot(history.history[item], label=item)\n",
    "    plt.plot(history.history[\"val_\" + item], label=\"val_\" + item)\n",
    "    plt.xlabel(\"Epochs\")\n",
    "    plt.ylabel(item)\n",
    "    plt.title(\"Train and Validation {} Over Epochs\".format(item), fontsize=14)\n",
    "    plt.legend()\n",
    "    plt.grid()\n",
    "    plt.show()\n",
    "\n",
    "\n",
    "plot_result(\"loss\")\n",
    "plot_result(\"binary_accuracy\")"
   ]
  },
  {
   "cell_type": "code",
   "execution_count": 29,
   "metadata": {},
   "outputs": [
    {
     "name": "stdout",
     "output_type": "stream",
     "text": [
      "11/11 [==============================] - 0s 8ms/step - loss: 0.2394 - binary_accuracy: 0.9551\n",
      "Categorical accuracy on the test set: 95.51%.\n"
     ]
    }
   ],
   "source": [
    "_, binary_acc = shallow_mlp_model.evaluate(test_dataset)\n",
    "print(f\"Categorical accuracy on the test set: {round(binary_acc * 100, 2)}%.\")"
   ]
  },
  {
   "cell_type": "code",
   "execution_count": 36,
   "metadata": {},
   "outputs": [
    {
     "name": "stdout",
     "output_type": "stream",
     "text": [
      "WARNING:tensorflow:5 out of the last 8 calls to <function Model.make_predict_function.<locals>.predict_function at 0x289269630> triggered tf.function retracing. Tracing is expensive and the excessive number of tracings could be due to (1) creating @tf.function repeatedly in a loop, (2) passing tensors with different shapes, (3) passing Python objects instead of tensors. For (1), please define your @tf.function outside of the loop. For (2), @tf.function has reduce_retracing=True option that can avoid unnecessary retracing. For (3), please refer to https://www.tensorflow.org/guide/function#controlling_retracing and https://www.tensorflow.org/api_docs/python/tf/function for  more details.\n",
      "4/4 [==============================] - 0s 4ms/step\n",
      "Abstract: b' Retain and develop specialist knowledge on specialist areas oftranslation;'\n",
      "Label(s): ['coordination' 'communication' 'instructing']\n",
      "Predicted Label(s): (communication, coordination, instructing)\n",
      " \n",
      "Abstract: b' Provide oversight of the transition to local ownership and coordinateactivities ensuring that implementation matches with the strategies setearlier.The main responsibility is to secure the amountof the hotel reservations by creating warm, friendly business partners(tour agences, Embasses, Consulates, Int. organizations etc.).The Loan Promoter recruits clients, offers themMDF'\n",
      "Label(s): ['mediation' 'coordination' 'communication']\n",
      "Predicted Label(s): (mediation, coordination, communication)\n",
      " \n",
      "Abstract: b' Monitor and update furniture stock and accurately deliver orders tofactory;'\n",
      "Label(s): ['communication' 'service orientation']\n",
      "Predicted Label(s): (instructing, communication, service orientation)\n",
      " \n",
      "Abstract: b' Contract for computer and communication equipment repair andmaintenance;'\n",
      "Label(s): ['mediation' 'communication' 'service orientation']\n",
      "Predicted Label(s): (service orientation, communication, mediation)\n",
      " \n",
      "Abstract: b' Review monthly project financial statements and call attention toimbalances;'\n",
      "Label(s): ['mediation' 'coordination' 'communication']\n",
      "Predicted Label(s): (mediation, communication, coordination)\n",
      " \n"
     ]
    }
   ],
   "source": [
    "model_for_inference = keras.Sequential([text_vectorizer, shallow_mlp_model])\n",
    "\n",
    "# Create a small dataset just for demoing inference.\n",
    "inference_dataset = make_dataset(test_df.sample(100), is_train=False)\n",
    "text_batch, label_batch = next(iter(inference_dataset))\n",
    "predicted_probabilities = model_for_inference.predict(text_batch)\n",
    "\n",
    "# Perform inference.\n",
    "for i, text in enumerate(text_batch[:5]):\n",
    "    label = label_batch[i].numpy()[None, ...]\n",
    "    print(f\"Abstract: {text}\")\n",
    "    print(f\"Label(s): {invert_multi_hot(label[0])}\")\n",
    "    predicted_proba = [proba for proba in predicted_probabilities[i]]\n",
    "    top_3_labels = [\n",
    "        x\n",
    "        for _, x in sorted(\n",
    "            zip(predicted_probabilities[i], lookup.get_vocabulary()),\n",
    "            key=lambda pair: pair[0],\n",
    "            reverse=True,\n",
    "        )\n",
    "    ][:3]\n",
    "    print(f\"Predicted Label(s): ({', '.join([label for label in top_3_labels])})\")\n",
    "    print(\" \")"
   ]
  },
  {
   "cell_type": "code",
   "execution_count": 7,
   "metadata": {},
   "outputs": [
    {
     "name": "stdout",
     "output_type": "stream",
     "text": [
      "WARNING:tensorflow:No training configuration found in save file, so the model was *not* compiled. Compile it manually.\n",
      "1/1 [==============================] - 0s 61ms/step\n",
      "['mediation', 'service orientation', 'instructing']\n"
     ]
    }
   ],
   "source": [
    "import pickle\n",
    "import keras\n",
    "import numpy as np\n",
    "\n",
    "\n",
    "def makePredictions(text):\n",
    "    vocab = pickle.load(open(\"models/vocab.pkl\", \"rb\"))\n",
    "    model = keras.models.load_model(\"models/model_for_inference\")\n",
    "    predictions = model.predict([text])\n",
    "    top_3 = np.argsort(predictions[0])[-3:][::-1]\n",
    "    return [vocab[i] for i in top_3]\n",
    "print(makePredictions(\"I am a good team player and I am a good communicator\"))     "
   ]
  },
  {
   "cell_type": "code",
   "execution_count": 31,
   "metadata": {},
   "outputs": [
    {
     "name": "stdout",
     "output_type": "stream",
     "text": [
      "WARNING:tensorflow:Compiled the loaded model, but the compiled metrics have yet to be built. `model.compile_metrics` will be empty until you train or evaluate the model.\n",
      "INFO:tensorflow:Assets written to: model_for_inference/assets\n"
     ]
    }
   ],
   "source": [
    "## Save the model\n",
    "model_for_inference.save(\"model_for_inference\")"
   ]
  },
  {
   "cell_type": "code",
   "execution_count": 43,
   "metadata": {},
   "outputs": [
    {
     "name": "stdout",
     "output_type": "stream",
     "text": [
      "WARNING:tensorflow:No training configuration found in save file, so the model was *not* compiled. Compile it manually.\n",
      "1/1 [==============================] - 0s 62ms/step\n",
      "[[4.8173070e-13 6.7643231e-01 2.4146592e-02 3.0335234e-03 2.7616626e-01\n",
      "  6.5445590e-01 5.1552961e-05 7.7602564e-04 3.0027493e-03 2.6670587e-04\n",
      "  2.5745014e-06 8.0006856e-07 2.9013802e-07 2.5444886e-06 2.0291343e-07\n",
      "  1.7184618e-11 2.1751422e-11 5.7978933e-10 3.0386638e-11 1.3347221e-11\n",
      "  3.5447402e-11 1.1357863e-11]]\n"
     ]
    }
   ],
   "source": [
    "## Load the model\n",
    "model_for_inference = keras.models.load_model(\"model_for_inference\")\n",
    "\n",
    "## Predict on new data\n",
    "sent = [\"I am a good team player and I am a good communicator\"]\n",
    "prob = model_for_inference.predict(sent)\n",
    "print(prob)"
   ]
  },
  {
   "cell_type": "code",
   "execution_count": 35,
   "metadata": {},
   "outputs": [
    {
     "data": {
      "text/plain": [
       "[array([], dtype='<U23'), array([], dtype='<U23')]"
      ]
     },
     "execution_count": 35,
     "metadata": {},
     "output_type": "execute_result"
    }
   ],
   "source": [
    "labels = for "
   ]
  },
  {
   "cell_type": "code",
   "execution_count": null,
   "metadata": {},
   "outputs": [],
   "source": []
  }
 ],
 "metadata": {
  "kernelspec": {
   "display_name": "Python 3",
   "language": "python",
   "name": "python3"
  },
  "language_info": {
   "codemirror_mode": {
    "name": "ipython",
    "version": 3
   },
   "file_extension": ".py",
   "mimetype": "text/x-python",
   "name": "python",
   "nbconvert_exporter": "python",
   "pygments_lexer": "ipython3",
   "version": "3.10.9"
  },
  "orig_nbformat": 4,
  "vscode": {
   "interpreter": {
    "hash": "b0fa6594d8f4cbf19f97940f81e996739fb7646882a419484c72d19e05852a7e"
   }
  }
 },
 "nbformat": 4,
 "nbformat_minor": 2
}
