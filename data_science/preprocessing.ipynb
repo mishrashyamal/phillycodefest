{
 "cells": [
  {
   "cell_type": "code",
   "execution_count": 1,
   "metadata": {},
   "outputs": [],
   "source": [
    "import pandas as pd\n",
    "import numpy as np\n",
    "import matplotlib.pyplot as plt\n",
    "import seaborn as sns"
   ]
  },
  {
   "cell_type": "code",
   "execution_count": 3,
   "metadata": {},
   "outputs": [],
   "source": [
    "with open('../data/JobReqirments.txt', 'r') as f:\n",
    "    data = f.read()"
   ]
  },
  {
   "cell_type": "code",
   "execution_count": 4,
   "metadata": {},
   "outputs": [],
   "source": [
    "data = data.split('-')\n",
    "data = [i.replace('\\n', '') for i in data]"
   ]
  },
  {
   "cell_type": "code",
   "execution_count": 6,
   "metadata": {},
   "outputs": [],
   "source": [
    "data = data[1:]"
   ]
  },
  {
   "cell_type": "code",
   "execution_count": 7,
   "metadata": {},
   "outputs": [],
   "source": [
    "df = pd.DataFrame(data, columns=['text'])"
   ]
  },
  {
   "cell_type": "code",
   "execution_count": 8,
   "metadata": {},
   "outputs": [
    {
     "data": {
      "text/html": [
       "<div>\n",
       "<style scoped>\n",
       "    .dataframe tbody tr th:only-of-type {\n",
       "        vertical-align: middle;\n",
       "    }\n",
       "\n",
       "    .dataframe tbody tr th {\n",
       "        vertical-align: top;\n",
       "    }\n",
       "\n",
       "    .dataframe thead th {\n",
       "        text-align: right;\n",
       "    }\n",
       "</style>\n",
       "<table border=\"1\" class=\"dataframe\">\n",
       "  <thead>\n",
       "    <tr style=\"text-align: right;\">\n",
       "      <th></th>\n",
       "      <th>text</th>\n",
       "    </tr>\n",
       "  </thead>\n",
       "  <tbody>\n",
       "    <tr>\n",
       "      <th>0</th>\n",
       "      <td>Supervises financial management and administr...</td>\n",
       "    </tr>\n",
       "    <tr>\n",
       "      <th>1</th>\n",
       "      <td>Serves as member of management team participa...</td>\n",
       "    </tr>\n",
       "    <tr>\n",
       "      <th>2</th>\n",
       "      <td>Directs and oversees the company's financial ...</td>\n",
       "    </tr>\n",
       "    <tr>\n",
       "      <th>3</th>\n",
       "      <td>Directs and oversees the annual budgeting pro...</td>\n",
       "    </tr>\n",
       "    <tr>\n",
       "      <th>4</th>\n",
       "      <td>Prepares external and internal financial mana...</td>\n",
       "    </tr>\n",
       "  </tbody>\n",
       "</table>\n",
       "</div>"
      ],
      "text/plain": [
       "                                                text\n",
       "0   Supervises financial management and administr...\n",
       "1   Serves as member of management team participa...\n",
       "2   Directs and oversees the company's financial ...\n",
       "3   Directs and oversees the annual budgeting pro...\n",
       "4   Prepares external and internal financial mana..."
      ]
     },
     "execution_count": 8,
     "metadata": {},
     "output_type": "execute_result"
    }
   ],
   "source": [
    "df.head()"
   ]
  },
  {
   "cell_type": "code",
   "execution_count": 10,
   "metadata": {},
   "outputs": [],
   "source": [
    "## this dataframe contains the job requirements for any job, I need to extract the skills from this dataframe\n",
    "import spacy\n",
    "\n",
    "nlp =  spacy.load('en_core_web_lg')\n",
    "text = ''.join(df['text'])"
   ]
  },
  {
   "cell_type": "code",
   "execution_count": 11,
   "metadata": {},
   "outputs": [],
   "source": [
    "text = text[:10000]"
   ]
  },
  {
   "cell_type": "code",
   "execution_count": 35,
   "metadata": {},
   "outputs": [],
   "source": [
    "doc = nlp(text)\n",
    "skills = []\n",
    "for token in doc:\n",
    "    if token.pos_ == 'NOUN':\n",
    "        skills.append(token.text)\n",
    "skills = list(set(skills))"
   ]
  },
  {
   "cell_type": "code",
   "execution_count": 36,
   "metadata": {},
   "outputs": [
    {
     "data": {
      "text/plain": [
       "309"
      ]
     },
     "execution_count": 36,
     "metadata": {},
     "output_type": "execute_result"
    }
   ],
   "source": [
    "len(skills)"
   ]
  },
  {
   "cell_type": "code",
   "execution_count": 21,
   "metadata": {},
   "outputs": [],
   "source": [
    "# Define the function to extract skills from the job text\n",
    "def extract_skills(text):\n",
    "    # Use spaCy to extract nouns from the text\n",
    "    doc = nlp(text)\n",
    "    skills = []\n",
    "    for token in doc:\n",
    "        if token.pos_ == 'NOUN':\n",
    "            skills.append(token.text)\n",
    "    skills = list(set(skills))\n",
    "    return skills"
   ]
  },
  {
   "cell_type": "code",
   "execution_count": 22,
   "metadata": {},
   "outputs": [],
   "source": [
    "# Apply the function to the job text\n",
    "df['skills'] = df['text'].apply(extract_skills)"
   ]
  },
  {
   "cell_type": "code",
   "execution_count": 38,
   "metadata": {},
   "outputs": [
    {
     "name": "stderr",
     "output_type": "stream",
     "text": [
      "/var/folders/fj/r2kb_f4d3k1gxmcwsdc81_1r0000gn/T/ipykernel_64274/743597086.py:13: UserWarning: [W008] Evaluating Doc.similarity based on empty vectors.\n",
      "  if doc.similarity(nlp(keyword)) > 0.8:\n"
     ]
    }
   ],
   "source": [
    "skills_categories = {\n",
    "        'communication': ['communication', 'public speaking', 'writing', 'presentation'],\n",
    "        'teamwork': ['teamwork', 'collaboration', 'interpersonal'],\n",
    "        'leadership': ['leadership', 'management', 'supervision'],\n",
    "        'problem-solving': ['problem-solving', 'troubleshooting', 'analytical', 'innovative'],\n",
    "        'technical': ['programming', 'data analysis', 'web development', 'database', 'networking']\n",
    "    }\n",
    "\n",
    "def map_skill_to_category(skill):\n",
    "        doc = nlp(skill)\n",
    "        for category, keywords in skills_categories.items():\n",
    "            for keyword in keywords:\n",
    "                if doc.similarity(nlp(keyword)) > 0.8:\n",
    "                    return category\n",
    "        return 'other'\n",
    "\n",
    "categories = [map_skill_to_category(s) for s in skills]"
   ]
  },
  {
   "cell_type": "code",
   "execution_count": 41,
   "metadata": {},
   "outputs": [
    {
     "data": {
      "text/plain": [
       "['level',\n",
       " 'excellence',\n",
       " 'interagency',\n",
       " 'capacities',\n",
       " 'Monitors',\n",
       " 'results',\n",
       " 'Work',\n",
       " 'systems',\n",
       " 'accountingsystems',\n",
       " 'degree',\n",
       " 'administration',\n",
       " 'planning',\n",
       " 'fund',\n",
       " 'policies',\n",
       " 'image',\n",
       " 'workingcondition',\n",
       " 'market',\n",
       " 'liaison',\n",
       " 'monitoringcovenants',\n",
       " 'changes',\n",
       " 'barriers',\n",
       " 'incumbent',\n",
       " 'investment',\n",
       " 'identifybarriers',\n",
       " 'production',\n",
       " 'cooperation',\n",
       " 'information',\n",
       " 'economicgrowth',\n",
       " 'provision',\n",
       " 'teamin',\n",
       " 'projections',\n",
       " 'andproducts',\n",
       " 'capacity',\n",
       " 'documents',\n",
       " 'andreplication',\n",
       " 'funding',\n",
       " 'user',\n",
       " 'businesses',\n",
       " 'formulation',\n",
       " 'insurance',\n",
       " 'working',\n",
       " 'amendments',\n",
       " 'Develops',\n",
       " 'interorganization',\n",
       " 'example',\n",
       " 'communications',\n",
       " 'terms',\n",
       " 'line',\n",
       " 'Network',\n",
       " 'Oversees',\n",
       " 'targets',\n",
       " 'pool',\n",
       " 'spotchecks',\n",
       " 'userinterface',\n",
       " 'payroll',\n",
       " 'HA',\n",
       " 'records',\n",
       " 'clearance',\n",
       " 'programmes',\n",
       " 'acts',\n",
       " 'feasibility',\n",
       " 'BCCinterventions',\n",
       " 'bylaws',\n",
       " 'society',\n",
       " 'provider',\n",
       " 'initiatives',\n",
       " 'documentation',\n",
       " 'minutes',\n",
       " 'measures',\n",
       " 'foridentifying',\n",
       " 'input',\n",
       " 'product',\n",
       " 'assessment',\n",
       " 'manager',\n",
       " 'Flexibility',\n",
       " 'board',\n",
       " 'adequacy',\n",
       " 'recipientorganizations',\n",
       " 'surveys',\n",
       " 'contract',\n",
       " 'subdivisions',\n",
       " 'countries',\n",
       " 'guide',\n",
       " 'marketing',\n",
       " 'Directs',\n",
       " 'accounts',\n",
       " 'gaps',\n",
       " 'conferences',\n",
       " 'Company',\n",
       " 'Managing',\n",
       " 'needs',\n",
       " 'liquidity',\n",
       " 'strategy',\n",
       " 'deploymentlevels',\n",
       " 'translations',\n",
       " 'reporting',\n",
       " 'sector',\n",
       " 'donors',\n",
       " 'contracts',\n",
       " 'languages',\n",
       " 'structures',\n",
       " 'agencies',\n",
       " 'collection',\n",
       " 'ofincorporation',\n",
       " 'compliance',\n",
       " 'individuals',\n",
       " 'preparation',\n",
       " 'compliancerequirements',\n",
       " 'dialogue',\n",
       " 'unions',\n",
       " 'assistance',\n",
       " 'advocacy',\n",
       " 'public',\n",
       " 'monitoring',\n",
       " 'correspondence',\n",
       " 'meetings',\n",
       " 'investments',\n",
       " 'reserves',\n",
       " 'years',\n",
       " 'management',\n",
       " 'events',\n",
       " 'change',\n",
       " 'work',\n",
       " 'offices',\n",
       " 'packaging',\n",
       " 'marketchain',\n",
       " 'loss',\n",
       " 'controls',\n",
       " 'company',\n",
       " 'communitymobilization',\n",
       " 'evaluation',\n",
       " 'framework',\n",
       " 'interventions',\n",
       " 'statements',\n",
       " 'enquiries',\n",
       " 'knowledge',\n",
       " 'support',\n",
       " 'theirsupervisors',\n",
       " 'Serves',\n",
       " 'flow',\n",
       " 'priorities;provide',\n",
       " 'customers',\n",
       " 'effort',\n",
       " 'communities',\n",
       " 'data',\n",
       " 'concentration',\n",
       " 'efforts',\n",
       " 'monitoringcontracts',\n",
       " 'region',\n",
       " 'impacts',\n",
       " 'approaches',\n",
       " 'Drawing',\n",
       " 'filing',\n",
       " 'communication',\n",
       " 'implements',\n",
       " 'conflict',\n",
       " 'retention',\n",
       " 'computerbasedinformation',\n",
       " 'travel',\n",
       " 'budgeting',\n",
       " 'principles',\n",
       " 'services',\n",
       " 'discussions',\n",
       " 'organisations',\n",
       " 'clients',\n",
       " 'evaluations',\n",
       " 'opportunities',\n",
       " 'duties',\n",
       " 'deadlines',\n",
       " 'development',\n",
       " 'risk',\n",
       " 'tax',\n",
       " 'telephone',\n",
       " 'components',\n",
       " 'investigation',\n",
       " 'accounting',\n",
       " 'center',\n",
       " 'vision',\n",
       " 'afterassistance',\n",
       " 'performance',\n",
       " 'visitors',\n",
       " 'registration',\n",
       " 'informationto',\n",
       " 'behaviorchange',\n",
       " 'proposal',\n",
       " 'Conduct',\n",
       " 'community',\n",
       " 'building',\n",
       " 'health',\n",
       " 'budgets',\n",
       " 'office',\n",
       " 'aspects',\n",
       " 'standards',\n",
       " 'supervision',\n",
       " 'officials',\n",
       " 'Participation',\n",
       " 'ofservices',\n",
       " 'growth',\n",
       " 'design',\n",
       " 'analyses',\n",
       " 'marketingpresentations',\n",
       " 'post',\n",
       " 'selfgovernance',\n",
       " 'ofdirectors',\n",
       " 'opportunity',\n",
       " 'activities',\n",
       " 'unloading',\n",
       " 'consultativemeetings',\n",
       " 'partnerships',\n",
       " 'projects',\n",
       " 'effectivelegislation',\n",
       " 'collaboration',\n",
       " 'property',\n",
       " 'forums',\n",
       " 'customs',\n",
       " 'fundaccounting',\n",
       " 'exposureand',\n",
       " 'subsidiaries',\n",
       " 'project',\n",
       " 'reports',\n",
       " 'group',\n",
       " 'service',\n",
       " 'sufficiency',\n",
       " 'portfolio',\n",
       " 'recommendations',\n",
       " 'advocate',\n",
       " 'activity',\n",
       " 'foundation',\n",
       " 'strategies',\n",
       " 'member',\n",
       " 'LEAD',\n",
       " 'distribution',\n",
       " 'asmanaging',\n",
       " 'setup',\n",
       " 'legislation',\n",
       " 'responsibilities',\n",
       " 'programs',\n",
       " 'feedback',\n",
       " 'counterpart',\n",
       " 'hours',\n",
       " 'websites',\n",
       " 'policy',\n",
       " 'warehouse',\n",
       " 'returns',\n",
       " 'actors',\n",
       " 'employees',\n",
       " 'team',\n",
       " 'behavior',\n",
       " 'Reinforce',\n",
       " 'issues',\n",
       " 'andmaintenance',\n",
       " 'addition',\n",
       " 'implementation',\n",
       " 'inventorying',\n",
       " 'launch',\n",
       " 'system',\n",
       " 'Realization',\n",
       " 'inhouse',\n",
       " 'specialists',\n",
       " 'groups',\n",
       " 'obtaining',\n",
       " 'Manage',\n",
       " 'mobilizeresources',\n",
       " 'training',\n",
       " 'staff',\n",
       " 'donor',\n",
       " 'leader',\n",
       " 'recipients',\n",
       " 'publicinstitutions',\n",
       " 'operations',\n",
       " 'sustainability',\n",
       " 'software',\n",
       " 'client',\n",
       " 'tools',\n",
       " 'vehicle',\n",
       " 'contact',\n",
       " 'consideration',\n",
       " 'authorities',\n",
       " 'file',\n",
       " 'research',\n",
       " 'action',\n",
       " 'items',\n",
       " 'corporatematerial',\n",
       " 'articles',\n",
       " 'products',\n",
       " 'calls',\n",
       " 'coordination',\n",
       " 'levelinvestigations',\n",
       " 'workshops',\n",
       " 'units',\n",
       " 'readiness',\n",
       " 'maintenance',\n",
       " 'vehicles',\n",
       " 'trainingactivities',\n",
       " 'use',\n",
       " 'humour',\n",
       " 'providers',\n",
       " 'analysis',\n",
       " 'recipient',\n",
       " 'quality',\n",
       " 'equipment',\n",
       " 'alliances',\n",
       " 'offundraising',\n",
       " 'organizations',\n",
       " 'comprehensiveness',\n",
       " 'servers',\n",
       " 'realization',\n",
       " 'cashand',\n",
       " 'process']"
      ]
     },
     "execution_count": 41,
     "metadata": {},
     "output_type": "execute_result"
    }
   ],
   "source": [
    "skills"
   ]
  },
  {
   "cell_type": "code",
   "execution_count": 71,
   "metadata": {},
   "outputs": [
    {
     "name": "stdout",
     "output_type": "stream",
     "text": [
      "['instructing', 'communication', 'mediation']\n"
     ]
    }
   ],
   "source": [
    "nlp = spacy.load('en_core_web_lg')\n",
    "soft_skills = ['professionalism', 'leadership', 'communication', 'teamwork', 'adaptability', 'creativity', 'problem-solving', 'time management', 'organization', \n",
    "               'negotiation', 'initiative', 'flexibility', 'decision-making', 'critical thinking', 'creativity', 'empathy', 'stress management', 'conflict resolution',\n",
    "               'patience', 'emotional intelligence', 'self-motivation', 'self-awareness', 'social perceptiveness', 'persuasion', 'service orientation', 'complex problem solving',\n",
    "               'active listening', 'instructing', 'mediation', 'coordination', 'monitoring', 'social perceptiveness', 'negotiation', 'persuasion', 'service orientation', 'complex problem solving']\n",
    "\n",
    "# set a threshold for soft skill similarity scores\n",
    "threshold = 0.7\n",
    "\n",
    "# classify the job description based on its soft skills\n",
    "def classify_soft_skills(job_description):\n",
    "    doc = nlp(job_description)\n",
    "    job_soft_skills = {}\n",
    "    for skill in soft_skills:\n",
    "        skill_doc = nlp(skill)\n",
    "        similarity_score = doc.similarity(skill_doc)\n",
    "        if similarity_score >= threshold:\n",
    "            job_soft_skills[skill] = similarity_score\n",
    "    soft_skills_sorted = sorted(job_soft_skills.items(), key=lambda x: x[1], reverse=True)\n",
    "    onlytopskills = [i[0] for i in soft_skills_sorted]\n",
    "    return onlytopskills[:3]\n",
    "\n",
    "# print the classified soft skills\n",
    "# print(classify_soft_skills(df['text'][0]))"
   ]
  },
  {
   "cell_type": "code",
   "execution_count": 73,
   "metadata": {},
   "outputs": [],
   "source": [
    "new_df = df[:10000]"
   ]
  },
  {
   "cell_type": "code",
   "execution_count": 74,
   "metadata": {},
   "outputs": [
    {
     "name": "stderr",
     "output_type": "stream",
     "text": [
      "/var/folders/fj/r2kb_f4d3k1gxmcwsdc81_1r0000gn/T/ipykernel_64274/772885605.py:16: UserWarning: [W008] Evaluating Doc.similarity based on empty vectors.\n",
      "  similarity_score = doc.similarity(skill_doc)\n",
      "/var/folders/fj/r2kb_f4d3k1gxmcwsdc81_1r0000gn/T/ipykernel_64274/4068477299.py:1: SettingWithCopyWarning: \n",
      "A value is trying to be set on a copy of a slice from a DataFrame.\n",
      "Try using .loc[row_indexer,col_indexer] = value instead\n",
      "\n",
      "See the caveats in the documentation: https://pandas.pydata.org/pandas-docs/stable/user_guide/indexing.html#returning-a-view-versus-a-copy\n",
      "  new_df['soft_skills'] = new_df['text'].apply(classify_soft_skills)\n"
     ]
    }
   ],
   "source": [
    "new_df['soft_skills'] = new_df['text'].apply(classify_soft_skills)"
   ]
  },
  {
   "cell_type": "code",
   "execution_count": 76,
   "metadata": {},
   "outputs": [
    {
     "name": "stderr",
     "output_type": "stream",
     "text": [
      "/var/folders/fj/r2kb_f4d3k1gxmcwsdc81_1r0000gn/T/ipykernel_64274/4175611922.py:1: SettingWithCopyWarning: \n",
      "A value is trying to be set on a copy of a slice from a DataFrame\n",
      "\n",
      "See the caveats in the documentation: https://pandas.pydata.org/pandas-docs/stable/user_guide/indexing.html#returning-a-view-versus-a-copy\n",
      "  new_df.drop('skills', axis=1, inplace=True)\n"
     ]
    }
   ],
   "source": [
    "new_df.drop('skills', axis=1, inplace=True)"
   ]
  },
  {
   "cell_type": "code",
   "execution_count": 77,
   "metadata": {},
   "outputs": [],
   "source": [
    "## dropping the soft_skills if they are empty and if the text is less than 3 words\n",
    "new_df = new_df[new_df['soft_skills'].map(len) > 0]\n",
    "new_df = new_df[new_df['text'].map(len) > 3]"
   ]
  },
  {
   "cell_type": "code",
   "execution_count": 79,
   "metadata": {},
   "outputs": [],
   "source": [
    "## saving the dataframe to a csv file\n",
    "new_df.to_csv('../data/soft_skills.csv', index=False)"
   ]
  },
  {
   "cell_type": "code",
   "execution_count": null,
   "metadata": {},
   "outputs": [],
   "source": []
  }
 ],
 "metadata": {
  "kernelspec": {
   "display_name": "Python 3",
   "language": "python",
   "name": "python3"
  },
  "language_info": {
   "codemirror_mode": {
    "name": "ipython",
    "version": 3
   },
   "file_extension": ".py",
   "mimetype": "text/x-python",
   "name": "python",
   "nbconvert_exporter": "python",
   "pygments_lexer": "ipython3",
   "version": "3.10.9"
  },
  "orig_nbformat": 4,
  "vscode": {
   "interpreter": {
    "hash": "b0fa6594d8f4cbf19f97940f81e996739fb7646882a419484c72d19e05852a7e"
   }
  }
 },
 "nbformat": 4,
 "nbformat_minor": 2
}
